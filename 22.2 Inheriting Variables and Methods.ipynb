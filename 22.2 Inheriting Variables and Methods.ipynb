{
 "cells": [
  {
   "cell_type": "code",
   "execution_count": 1,
   "metadata": {},
   "outputs": [
    {
     "name": "stdout",
     "output_type": "stream",
     "text": [
      "Alice (1990)\n"
     ]
    }
   ],
   "source": [
    "CURRENT_YEAR = 2019\n",
    "class Person:\n",
    "    def __init__(self, name, year_born):\n",
    "        self.name = name\n",
    "        self.year_born = year_born\n",
    "    \n",
    "    def getAge(self):\n",
    "        return CURRENT_YEAR - self.year_born\n",
    "    \n",
    "    def __str__(self):\n",
    "        return \"{} ({})\".format(self.name, self.year_born)\n",
    "    \n",
    "alice = Person('Alice', 1990)\n",
    "print(alice)"
   ]
  },
  {
   "cell_type": "code",
   "execution_count": 9,
   "metadata": {},
   "outputs": [
    {
     "name": "stdout",
     "output_type": "stream",
     "text": [
      "1\n",
      "29\n"
     ]
    }
   ],
   "source": [
    "class Student(Person):\n",
    "    def __init__(self, name, year_born):\n",
    "        Person.__init__(self, name, year_born)\n",
    "        self.knowledge = 0\n",
    "    def study(self):\n",
    "        self.knowledge += 1\n",
    "\n",
    "alice = Student('Alice Smith', 1990)\n",
    "alice.study()\n",
    "print(alice.knowledge)\n",
    "print(alice.getAge())"
   ]
  },
  {
   "cell_type": "code",
   "execution_count": null,
   "metadata": {},
   "outputs": [],
   "source": []
  }
 ],
 "metadata": {
  "kernelspec": {
   "display_name": "Python 3",
   "language": "python",
   "name": "python3"
  },
  "language_info": {
   "codemirror_mode": {
    "name": "ipython",
    "version": 3
   },
   "file_extension": ".py",
   "mimetype": "text/x-python",
   "name": "python",
   "nbconvert_exporter": "python",
   "pygments_lexer": "ipython3",
   "version": "3.6.8"
  }
 },
 "nbformat": 4,
 "nbformat_minor": 2
}
